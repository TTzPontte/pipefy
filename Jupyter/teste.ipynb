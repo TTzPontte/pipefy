{
 "cells": [
  {
   "cell_type": "code",
   "execution_count": 1,
   "metadata": {},
   "outputs": [],
   "source": [
    "kv = {'Anexos do Email': [], 'Bacen': ['https://app-storage-service.pipefy.com/v1/signed/uploads/e4a50d28-2273-4771-8ada-5f7b551df30b/JadeAlves-42084788889-2023-01-16.json?expires_on=1674241000&signature=I9GaIQafp5Zh2i5rtE6Xg%2FYFDSKNGJ2RcWlB2DMtyRI%3D', 'https://app-storage-service.pipefy.com/v1/signed/uploads/580a0ebf-f509-4abf-8fba-ab49ca94d881/JadeAlves-42084788889-2023-01-16.pdf?expires_on=1674241000&signature=GiG8l%2FlcABDmvbzcbkC%2Fph%2BMTgBL3iGI9OCi6kS6uQ0%3D', 'https://app-storage-service.pipefy.com/v1/signed/uploads/349ea03a-4648-4457-9a90-d064006fdfec/ValquriaPinheiroDaSilvaAlves-08402690807-2023-01-16.pdf?expires_on=1674241000&signature=OkAAHfTbgxVI0%2Fp3HxehmeyJIdb2b7VLeUIpryqLZvs%3D', 'https://app-storage-service.pipefy.com/v1/signed/uploads/4e07e9a3-fa54-41cf-906f-96f00071b1a9/ValquriaPinheiroDaSilvaAlves-08402690807-2023-01-16.json?expires_on=1674241000&signature=D2MJRxRTaYEIvCXheR3hmwX5zKFFjtcfYyfkZeWoj%2Fw%3D'], 'Certidão de Estado Civil ': [], 'Comprovante de Residência': [], 'Extrato Bancário Últimos 3 meses (Restored)': [], 'Precisamos de uma foto do seu RG, CNH ou RNE': ['https://app-storage-service.pipefy.com/v1/signed/uploads/6c1dab97-0f14-41b2-835c-52f276366991/CertidaoCasamento%2BObito-Valquiria.pdf?expires_on=1674241000&signature=9VHSYF%2BMtc7a2aaJ24UtZuMy85BsTaT9hbVJ25%2FwWyY%3D', 'https://app-storage-service.pipefy.com/v1/signed/uploads/c8aa7a08-8361-460f-a9d2-6c3613542f68/RgValquiria.jpg?expires_on=1674241000&signature=YcDHoqb6CXk9nmbIlBXKK9E%2BwthrPjuqYA7%2FLFbiFhQ%3D'], 'Foto de RG ou CNH - 2o Pagador(a)': ['https://app-storage-service.pipefy.com/v1/signed/uploads/ceb223a2-d1f9-489b-bc21-52eb197b6da1/CertidaodeNascimentoJade.jpg?expires_on=1674241000&signature=EHEVs4LIS%2BhuNgJtGqFdZJUBU6IqPiWsTFKgCrB7R54%3D', 'https://app-storage-service.pipefy.com/v1/signed/uploads/d3d58b25-b743-4b73-a06f-66ba6f0ccc58/RGJade.jpg?expires_on=1674241000&signature=ZBZNTWqN8clO6Th1KqaDdBh%2BUrwHzOsTBMhrpFdXyJI%3D'], 'IRPF': [], 'Extrato bancário últimos 3 meses (2º proponente)': [], 'Holerite': [], 'Holerite (2º proponente)': [], 'Contrato Social': [], 'Faturamento 3 anos': [], 'Balanço Patrimonial 3 anos': [], 'DRE 3 anos': [], 'Matrícula do imóvel': [], 'CCV': [], 'Capa IPTU': [], 'Fotos do imóvel': [], 'Extrato Bancário Últimos 6 meses (PJ) (Restored)': [], 'Documentos Financeiros': ['https://app-storage-service.pipefy.com/v1/signed/uploads/7ad2c493-2389-4c25-a569-fff0ddaa399b/IRPF_VALQUIRIA.pdf?expires_on=1674241000&signature=Hdx0%2B2fUdQJXLKKG2bl19ay3xs%2FBd2p6XellLmtWiA0%3D', 'https://app-storage-service.pipefy.com/v1/signed/uploads/53905e25-ecd2-4ee2-86c4-08abf06b255c/HOLERITES_VALQUIRIA.pdf?expires_on=1674241000&signature=%2FcoUPICwjYBoAtPSVscUFljXPO1p93DTUZgfgnLtrKU%3D', 'https://app-storage-service.pipefy.com/v1/signed/uploads/5fc67602-abae-49fe-a17f-d9e25b487462/HOLERITES_JADE.pdf?expires_on=1674241000&signature=mbjbUsTCpAtUc5Xuh4GrebBBHvH2J1b%2FWq6x2pyYdIs%3D'], 'Documentos Pessoais': ['https://app-storage-service.pipefy.com/v1/signed/uploads/9695a5e2-a0c5-4d40-8e38-94adf19e662c/COMP_RESIDENCIA_JADE_NOVEMBRO.pdf?expires_on=1674241000&signature=qNcHfR9Ro5nnoAtYy%2FJculsFCdPS5SA7iSGHwlCrmFo%3D', 'https://app-storage-service.pipefy.com/v1/signed/uploads/11fe56a8-1bbf-4eec-9cb2-6ba778a25d38/CERTIDAO_CASAMENTO_VALQUIRIA.pdf?expires_on=1674241000&signature=Pk6Dn0uKCd67KlyC1zVHYF7aFiVuttAXF6OdW4PWzww%3D', 'https://app-storage-service.pipefy.com/v1/signed/uploads/43a4b06d-59e3-4ec8-ac8f-e830c0d022bd/CERTIDAO_NASCIMENTO_JADE.pdf?expires_on=1674241000&signature=15E5GVflXlUMZnHWI3K3k9LgF7oLQl8%2Fk0AETmFJNic%3D']}"
   ]
  },
  {
   "cell_type": "code",
   "execution_count": 8,
   "metadata": {},
   "outputs": [],
   "source": [
    "lista = ['CertidaoCasamento+Obito-Valquiria.pdf', 'RgValquiria.jpg', 'CertidaodeNascimentoJade.jpg', 'RGJade.jpg', 'IRPF_VALQUIRIA.pdf', 'HOLERITES_VALQUIRIA.pdf', 'HOLERITES_JADE.pdf', 'COMP_RESIDENCIA_JADE_NOVEMBRO.pdf', 'CERTIDAO_CASAMENTO_VALQUIRIA.pdf', 'CERTIDAO_NASCIMENTO_JADE.pdf', 'JadeAlves-42084788889-2023-01-16.json', 'JadeAlves-42084788889-2023-01-16.pdf', 'ValquriaPinheiroDaSilvaAlves-08402690807-2023-01-16.pdf', 'ValquriaPinheiroDaSilvaAlves-08402690807-2023-01-16.json']\n"
   ]
  },
  {
   "cell_type": "code",
   "execution_count": 19,
   "metadata": {},
   "outputs": [
    {
     "name": "stdout",
     "output_type": "stream",
     "text": [
      "./Arquivos Gerados/JadeAlves-42084788889-2023-01-16.json\n",
      "./Arquivos Gerados/JadeAlves-42084788889-2023-01-16.pdf\n",
      "./Arquivos Gerados/ValquriaPinheiroDaSilvaAlves-08402690807-2023-01-16.pdf\n",
      "./Arquivos Gerados/ValquriaPinheiroDaSilvaAlves-08402690807-2023-01-16.json\n",
      "./Arquivos Gerados/RgValquiria.jpg\n",
      "./Arquivos Gerados/CertidaodeNascimentoJade.jpg\n",
      "./Arquivos Gerados/RGJade.jpg\n",
      "./Arquivos Gerados/IRPF_VALQUIRIA.pdf\n",
      "./Arquivos Gerados/HOLERITES_VALQUIRIA.pdf\n",
      "./Arquivos Gerados/HOLERITES_JADE.pdf\n",
      "./Arquivos Gerados/COMP_RESIDENCIA_JADE_NOVEMBRO.pdf\n",
      "./Arquivos Gerados/CERTIDAO_CASAMENTO_VALQUIRIA.pdf\n",
      "./Arquivos Gerados/CERTIDAO_NASCIMENTO_JADE.pdf\n"
     ]
    }
   ],
   "source": [
    "for item in kv:\n",
    "    urlDownload = kv[item]\n",
    "    if urlDownload != []:\n",
    "        for link in urlDownload:\n",
    "            for value in lista:\n",
    "                if value in link:\n",
    "                    path = f'./Arquivos Gerados/{value}'\n",
    "                    "
   ]
  },
  {
   "cell_type": "code",
   "execution_count": null,
   "metadata": {},
   "outputs": [],
   "source": []
  }
 ],
 "metadata": {
  "kernelspec": {
   "display_name": "Python 3",
   "language": "python",
   "name": "python3"
  },
  "language_info": {
   "codemirror_mode": {
    "name": "ipython",
    "version": 3
   },
   "file_extension": ".py",
   "mimetype": "text/x-python",
   "name": "python",
   "nbconvert_exporter": "python",
   "pygments_lexer": "ipython3",
   "version": "3.10.8"
  },
  "orig_nbformat": 4,
  "vscode": {
   "interpreter": {
    "hash": "4f23259cc4a989149ceb318427fe09b9530d16c787809bc42dd4da82aeda726e"
   }
  }
 },
 "nbformat": 4,
 "nbformat_minor": 2
}
